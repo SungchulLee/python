{
 "cells": [
  {
   "cell_type": "markdown",
   "metadata": {},
   "source": [
    "# Multithreading - Introduction"
   ]
  },
  {
   "cell_type": "markdown",
   "metadata": {},
   "source": [
    "codebasics [youtube](https://www.youtube.com/watch?v=PJ4t2U15ACo)"
   ]
  },
  {
   "cell_type": "markdown",
   "metadata": {},
   "source": [
    "# Without Multithreading"
   ]
  },
  {
   "cell_type": "markdown",
   "metadata": {},
   "source": [
    "리스트 [1, 2, 3, 4, 5]에 들어있는 각각의 숫자를 제곱하는 작업과 세제곱하는 작업을 수행하자."
   ]
  },
  {
   "cell_type": "code",
   "execution_count": 1,
   "metadata": {},
   "outputs": [
    {
     "name": "stdout",
     "output_type": "stream",
     "text": [
      "calculate square numbers\n",
      "square: 1\n",
      "square: 4\n",
      "square: 9\n",
      "square: 16\n",
      "square: 25\n",
      "calculate cube of numbers\n",
      "cube: 1\n",
      "cube: 8\n",
      "cube: 27\n",
      "cube: 64\n",
      "cube: 125\n",
      "Done in 2.029618978500366 seconds.\n",
      "Hah... I am done with all my work now!\n"
     ]
    }
   ],
   "source": [
    "import time\n",
    "\n",
    "def calc_square(numbers):\n",
    "    print(\"calculate square numbers\")\n",
    "    for n in numbers:\n",
    "        time.sleep(0.2)\n",
    "        print('square:',n*n)\n",
    "\n",
    "def calc_cube(numbers):\n",
    "    print(\"calculate cube of numbers\")\n",
    "    for n in numbers:\n",
    "        time.sleep(0.2)\n",
    "        print('cube:',n*n*n)\n",
    "\n",
    "x = [1, 2, 3, 4, 5]\n",
    "\n",
    "t = time.time()\n",
    "\n",
    "calc_square(x)\n",
    "calc_cube(x)\n",
    "\n",
    "print(\"Done in {} seconds.\".format(time.time()-t))\n",
    "print(\"Hah... I am done with all my work now!\")"
   ]
  },
  {
   "cell_type": "markdown",
   "metadata": {},
   "source": [
    "# With Multithreading"
   ]
  },
  {
   "cell_type": "markdown",
   "metadata": {},
   "source": [
    "Threads in python are useful when the tasks that you are trying to perform have IOs(input output operations such as waiting for receiving response from another service or hardware). 어떤 작업중 CPU가 놀고있다면, 이 때 CPU를 사용하자는 것이 ㅡultithreading이다.\n",
    "Multithreading을 하려면, threading 모듈을 이용한다. "
   ]
  },
  {
   "cell_type": "code",
   "execution_count": 3,
   "metadata": {},
   "outputs": [
    {
     "name": "stdout",
     "output_type": "stream",
     "text": [
      "calculate square numbers\n",
      "calculate cube of numbers\n",
      "square: 1\n",
      "cube: 1\n",
      "square:cube: 8\n",
      " 4\n",
      "cube: 27\n",
      "square: 9\n",
      "cube:square: 64\n",
      " 16\n",
      "cube: 125\n",
      "square: 25\n",
      "Done in 1.0179259777069092 seconds.\n",
      "Hah... I am done with all my work now!\n"
     ]
    }
   ],
   "source": [
    "import time\n",
    "import threading # Multithreading을 하려면, threading 모듈을 이용한다. \n",
    "\n",
    "def calc_square(numbers):\n",
    "    print(\"calculate square numbers\")\n",
    "    for n in numbers:\n",
    "        time.sleep(0.2)\n",
    "        print('square:',n*n)\n",
    "\n",
    "def calc_cube(numbers):\n",
    "    print(\"calculate cube of numbers\")\n",
    "    for n in numbers:\n",
    "        time.sleep(0.2)\n",
    "        print('cube:',n*n*n)\n",
    "\n",
    "x = [1, 2, 3, 4, 5]\n",
    "\n",
    "t = time.time()\n",
    "\n",
    "# create threads \n",
    "task_1 = threading.Thread(target=calc_square, args=(x,)) # 첫번째 작업 지시\n",
    "task_2 = threading.Thread(target=calc_cube, args=(x,))   # 두번째 작업 지시\n",
    "\n",
    "# start\n",
    "task_1.start() # 첫번째 작업 시작\n",
    "task_2.start() # 두번째 작업 시작\n",
    "\n",
    "task_1.join() # 첫번째 작업 종료후 복귀\n",
    "task_2.join() # 두번째 작업 종료후 복귀\n",
    "\n",
    "print(\"Done in {} seconds.\".format(time.time()-t))\n",
    "print(\"Hah... I am done with all my work now!\")"
   ]
  },
  {
   "cell_type": "code",
   "execution_count": null,
   "metadata": {},
   "outputs": [],
   "source": []
  }
 ],
 "metadata": {
  "kernelspec": {
   "display_name": "Python 3",
   "language": "python",
   "name": "python3"
  },
  "language_info": {
   "codemirror_mode": {
    "name": "ipython",
    "version": 3
   },
   "file_extension": ".py",
   "mimetype": "text/x-python",
   "name": "python",
   "nbconvert_exporter": "python",
   "pygments_lexer": "ipython3",
   "version": "3.5.0"
  }
 },
 "nbformat": 4,
 "nbformat_minor": 2
}
