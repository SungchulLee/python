{
 "cells": [
  {
   "cell_type": "markdown",
   "metadata": {},
   "source": [
    "# FIFO and LIFO Queue"
   ]
  },
  {
   "cell_type": "code",
   "execution_count": 5,
   "metadata": {},
   "outputs": [
    {
     "name": "stdout",
     "output_type": "stream",
     "text": [
      "<queue.LifoQueue object at 0x7fd7305da400>\n",
      "<queue.LifoQueue object at 0x7fd7305da400>\n",
      "<queue.LifoQueue object at 0x7fd7305da400>\n",
      "<queue.LifoQueue object at 0x7fd7305da400>\n",
      "<queue.LifoQueue object at 0x7fd7305da400>\n",
      "<queue.LifoQueue object at 0x7fd7305da400> 4\n",
      "<queue.LifoQueue object at 0x7fd7305da400> 3\n",
      "<queue.LifoQueue object at 0x7fd7305da400> 2\n",
      "<queue.LifoQueue object at 0x7fd7305da400> 1\n",
      "<queue.LifoQueue object at 0x7fd7305da400> 0\n"
     ]
    }
   ],
   "source": [
    "import queue\n",
    "\n",
    "if 0:\n",
    "    # (FIFO) Queue\n",
    "    q = queue.Queue()\n",
    "elif 1:\n",
    "    # LIFO Queue\n",
    "    q = queue.LifoQueue()\n",
    "elif 1:\n",
    "    # Priority Queue \n",
    "    q = queue.PriorityQueue()\n",
    "\n",
    "for i in range(5):\n",
    "    q.put(i)\n",
    "    print(q)\n",
    "\n",
    "for i in range(5):\n",
    "    a = q.get()\n",
    "    print(q, a)"
   ]
  },
  {
   "cell_type": "markdown",
   "metadata": {},
   "source": [
    "# Priority Queue "
   ]
  },
  {
   "cell_type": "code",
   "execution_count": 6,
   "metadata": {},
   "outputs": [
    {
     "name": "stdout",
     "output_type": "stream",
     "text": [
      "<queue.PriorityQueue object at 0x7fd7305daa90>\n",
      "<queue.PriorityQueue object at 0x7fd7305daa90>\n",
      "<queue.PriorityQueue object at 0x7fd7305daa90>\n",
      "<queue.PriorityQueue object at 0x7fd7305daa90>\n",
      "<queue.PriorityQueue object at 0x7fd7305daa90>\n",
      "<queue.PriorityQueue object at 0x7fd7305daa90> (-1, 4)\n",
      "<queue.PriorityQueue object at 0x7fd7305daa90> (1, 3)\n",
      "<queue.PriorityQueue object at 0x7fd7305daa90> (10, 1)\n",
      "<queue.PriorityQueue object at 0x7fd7305daa90> (20, 2)\n",
      "<queue.PriorityQueue object at 0x7fd7305daa90> (30, 0)\n"
     ]
    }
   ],
   "source": [
    "import queue\n",
    "\n",
    "if 0:\n",
    "    # (FIFO) Queue\n",
    "    q = queue.Queue()\n",
    "elif 0:\n",
    "    # LIFO Queue\n",
    "    q = queue.LifoQueue()\n",
    "elif 1:\n",
    "    # Priority Queue \n",
    "    q = queue.PriorityQueue()\n",
    "\n",
    "priority = [30, 10, 20, 1, -1]\n",
    "for i in range(5):\n",
    "    q.put((priority[i], i))\n",
    "    print(q)\n",
    "\n",
    "for i in range(5):\n",
    "    a = q.get()\n",
    "    print(q, a)"
   ]
  },
  {
   "cell_type": "code",
   "execution_count": 7,
   "metadata": {},
   "outputs": [
    {
     "name": "stdout",
     "output_type": "stream",
     "text": [
      "<queue.PriorityQueue object at 0x7fd7305da748>\n",
      "<queue.PriorityQueue object at 0x7fd7305da748>\n",
      "<queue.PriorityQueue object at 0x7fd7305da748>\n",
      "<queue.PriorityQueue object at 0x7fd7305da748>\n",
      "<queue.PriorityQueue object at 0x7fd7305da748>\n",
      "<queue.PriorityQueue object at 0x7fd7305da748> (0.09202126407549138, 1)\n",
      "<queue.PriorityQueue object at 0x7fd7305da748> (0.11735094234664101, 2)\n",
      "<queue.PriorityQueue object at 0x7fd7305da748> (0.2987895941312021, 4)\n",
      "<queue.PriorityQueue object at 0x7fd7305da748> (0.42974885843598765, 0)\n",
      "<queue.PriorityQueue object at 0x7fd7305da748> (0.7965809511725395, 3)\n"
     ]
    }
   ],
   "source": [
    "import queue\n",
    "import numpy as np\n",
    "\n",
    "if 0:\n",
    "    # (FIFO) Queue\n",
    "    q = queue.Queue()\n",
    "elif 0:\n",
    "    # LIFO Queue\n",
    "    q = queue.LifoQueue()\n",
    "elif 1:\n",
    "    # Priority Queue \n",
    "    q = queue.PriorityQueue()\n",
    "\n",
    "for i in range(5):\n",
    "    q.put((np.random.uniform(0., 1.), i))\n",
    "    print(q)\n",
    "\n",
    "for i in range(5):\n",
    "    a = q.get()\n",
    "    print(q, a)"
   ]
  },
  {
   "cell_type": "code",
   "execution_count": null,
   "metadata": {},
   "outputs": [],
   "source": []
  }
 ],
 "metadata": {
  "kernelspec": {
   "display_name": "Python 3",
   "language": "python",
   "name": "python3"
  },
  "language_info": {
   "codemirror_mode": {
    "name": "ipython",
    "version": 3
   },
   "file_extension": ".py",
   "mimetype": "text/x-python",
   "name": "python",
   "nbconvert_exporter": "python",
   "pygments_lexer": "ipython3",
   "version": "3.7.3"
  }
 },
 "nbformat": 4,
 "nbformat_minor": 2
}
