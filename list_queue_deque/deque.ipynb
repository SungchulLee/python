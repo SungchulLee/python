{
 "cells": [
  {
   "cell_type": "markdown",
   "metadata": {},
   "source": [
    "# collections.deque"
   ]
  },
  {
   "cell_type": "markdown",
   "metadata": {},
   "source": [
    "[DOC](https://docs.python.org/2/library/collections.html)"
   ]
  },
  {
   "cell_type": "markdown",
   "metadata": {},
   "source": [
    "# deque, list-like container"
   ]
  },
  {
   "cell_type": "code",
   "execution_count": 6,
   "metadata": {},
   "outputs": [
    {
     "name": "stdout",
     "output_type": "stream",
     "text": [
      "deque([0, 1, 2, 3, 4, 5, 6, 7, 8, 9])\n",
      "0\n",
      "9\n",
      "<class 'collections.deque'>\n",
      "['__add__', '__bool__', '__class__', '__contains__', '__copy__', '__delattr__', '__delitem__', '__dir__', '__doc__', '__eq__', '__format__', '__ge__', '__getattribute__', '__getitem__', '__gt__', '__hash__', '__iadd__', '__imul__', '__init__', '__iter__', '__le__', '__len__', '__lt__', '__mul__', '__ne__', '__new__', '__reduce__', '__reduce_ex__', '__repr__', '__reversed__', '__rmul__', '__setattr__', '__setitem__', '__sizeof__', '__str__', '__subclasshook__', 'append', 'appendleft', 'clear', 'copy', 'count', 'extend', 'extendleft', 'index', 'insert', 'maxlen', 'pop', 'popleft', 'remove', 'reverse', 'rotate']\n"
     ]
    }
   ],
   "source": [
    "from collections import deque\n",
    "\n",
    "if 1:\n",
    "    d = deque([0,1,2,3,4,5,6,7,8,9]) \n",
    "elif 1:\n",
    "    d = [0,1,2,3,4,5,6,7,8,9] \n",
    "\n",
    "print(d) \n",
    "print(d[0]) \n",
    "print(d[-1]) \n",
    "print(type(d))\n",
    "print(dir(d))"
   ]
  },
  {
   "cell_type": "code",
   "execution_count": 8,
   "metadata": {},
   "outputs": [
    {
     "name": "stdout",
     "output_type": "stream",
     "text": [
      "[]\n",
      "<class 'list'>\n",
      "['__add__', '__class__', '__contains__', '__delattr__', '__delitem__', '__dir__', '__doc__', '__eq__', '__format__', '__ge__', '__getattribute__', '__getitem__', '__gt__', '__hash__', '__iadd__', '__imul__', '__init__', '__iter__', '__le__', '__len__', '__lt__', '__mul__', '__ne__', '__new__', '__reduce__', '__reduce_ex__', '__repr__', '__reversed__', '__rmul__', '__setattr__', '__setitem__', '__sizeof__', '__str__', '__subclasshook__', 'append', 'clear', 'copy', 'count', 'extend', 'index', 'insert', 'pop', 'remove', 'reverse', 'sort']\n"
     ]
    }
   ],
   "source": [
    "from collections import deque\n",
    "\n",
    "if 0:\n",
    "    d = deque()\n",
    "elif 1:\n",
    "    d = []\n",
    "\n",
    "print(d) "
   ]
  },
  {
   "cell_type": "markdown",
   "metadata": {},
   "source": [
    "# append and pop"
   ]
  },
  {
   "cell_type": "code",
   "execution_count": 9,
   "metadata": {},
   "outputs": [
    {
     "name": "stdout",
     "output_type": "stream",
     "text": [
      "deque([])\n",
      "deque([0])\n",
      "deque([0, 1])\n",
      "deque([0, 1, 2])\n",
      "deque([0, 1, 2, 3])\n",
      "deque([0, 1, 2, 3, 4])\n",
      "deque([0, 1, 2, 3, 4, 5])\n",
      "deque([0, 1, 2, 3, 4, 5, 6])\n",
      "deque([0, 1, 2, 3, 4, 5, 6, 7])\n",
      "deque([0, 1, 2, 3, 4, 5, 6, 7, 8])\n",
      "deque([0, 1, 2, 3, 4, 5, 6, 7, 8, 9])\n",
      "\n",
      "deque([0, 1, 2, 3, 4, 5, 6, 7, 8])\n",
      "deque([0, 1, 2, 3, 4, 5, 6, 7])\n",
      "deque([0, 1, 2, 3, 4, 5, 6])\n",
      "deque([0, 1, 2, 3, 4, 5])\n",
      "deque([0, 1, 2, 3, 4])\n",
      "deque([0, 1, 2, 3])\n",
      "deque([0, 1, 2])\n",
      "deque([0, 1])\n",
      "deque([0])\n",
      "deque([])\n"
     ]
    }
   ],
   "source": [
    "from collections import deque\n",
    "\n",
    "d = deque()\n",
    "print(d)\n",
    "\n",
    "for i in range(10):\n",
    "    d.append(i)\n",
    "    print(d)\n",
    "\n",
    "print()\n",
    "\n",
    "for i in range(10):\n",
    "    d.pop()\n",
    "    print(d)"
   ]
  },
  {
   "cell_type": "code",
   "execution_count": 7,
   "metadata": {},
   "outputs": [
    {
     "name": "stdout",
     "output_type": "stream",
     "text": [
      "[]\n",
      "[0]\n",
      "[0, 1]\n",
      "[0, 1, 2]\n",
      "[0, 1, 2, 3]\n",
      "[0, 1, 2, 3, 4]\n",
      "[0, 1, 2, 3, 4, 5]\n",
      "[0, 1, 2, 3, 4, 5, 6]\n",
      "[0, 1, 2, 3, 4, 5, 6, 7]\n",
      "[0, 1, 2, 3, 4, 5, 6, 7, 8]\n",
      "[0, 1, 2, 3, 4, 5, 6, 7, 8, 9]\n",
      "\n",
      "[0, 1, 2, 3, 4, 5, 6, 7, 8]\n",
      "[0, 1, 2, 3, 4, 5, 6, 7]\n",
      "[0, 1, 2, 3, 4, 5, 6]\n",
      "[0, 1, 2, 3, 4, 5]\n",
      "[0, 1, 2, 3, 4]\n",
      "[0, 1, 2, 3]\n",
      "[0, 1, 2]\n",
      "[0, 1]\n",
      "[0]\n",
      "[]\n"
     ]
    }
   ],
   "source": [
    "d = []\n",
    "print(d)\n",
    "\n",
    "for i in range(10):\n",
    "    d.append(i)\n",
    "    print(d)\n",
    "\n",
    "print()\n",
    "\n",
    "for i in range(10):\n",
    "    d.pop()\n",
    "    print(d)"
   ]
  },
  {
   "cell_type": "markdown",
   "metadata": {},
   "source": [
    "# appendleft and popleft"
   ]
  },
  {
   "cell_type": "code",
   "execution_count": 8,
   "metadata": {},
   "outputs": [
    {
     "name": "stdout",
     "output_type": "stream",
     "text": [
      "deque([])\n",
      "deque([0])\n",
      "deque([0, 1])\n",
      "deque([0, 1, 2])\n",
      "deque([0, 1, 2, 3])\n",
      "deque([0, 1, 2, 3, 4])\n",
      "deque([0, 1, 2, 3, 4, 5])\n",
      "deque([0, 1, 2, 3, 4, 5, 6])\n",
      "deque([0, 1, 2, 3, 4, 5, 6, 7])\n",
      "deque([0, 1, 2, 3, 4, 5, 6, 7, 8])\n",
      "deque([0, 1, 2, 3, 4, 5, 6, 7, 8, 9])\n",
      "\n",
      "deque([1, 2, 3, 4, 5, 6, 7, 8, 9])\n",
      "deque([2, 3, 4, 5, 6, 7, 8, 9])\n",
      "deque([3, 4, 5, 6, 7, 8, 9])\n",
      "deque([4, 5, 6, 7, 8, 9])\n",
      "deque([5, 6, 7, 8, 9])\n",
      "deque([6, 7, 8, 9])\n",
      "deque([7, 8, 9])\n",
      "deque([8, 9])\n",
      "deque([9])\n",
      "deque([])\n"
     ]
    }
   ],
   "source": [
    "from collections import deque\n",
    "\n",
    "d = deque()\n",
    "print(d)\n",
    "\n",
    "for i in range(10):\n",
    "    d.append(i)\n",
    "    print(d)\n",
    "\n",
    "print()\n",
    "\n",
    "for i in range(10):\n",
    "    d.popleft()\n",
    "    print(d)"
   ]
  },
  {
   "cell_type": "code",
   "execution_count": 11,
   "metadata": {},
   "outputs": [
    {
     "name": "stdout",
     "output_type": "stream",
     "text": [
      "[]\n",
      "[0]\n",
      "[0, 1]\n",
      "[0, 1, 2]\n",
      "[0, 1, 2, 3]\n",
      "[0, 1, 2, 3, 4]\n",
      "[0, 1, 2, 3, 4, 5]\n",
      "[0, 1, 2, 3, 4, 5, 6]\n",
      "[0, 1, 2, 3, 4, 5, 6, 7]\n",
      "[0, 1, 2, 3, 4, 5, 6, 7, 8]\n",
      "[0, 1, 2, 3, 4, 5, 6, 7, 8, 9]\n",
      "\n",
      "[1, 2, 3, 4, 5, 6, 7, 8, 9]\n",
      "[2, 3, 4, 5, 6, 7, 8, 9]\n",
      "[3, 4, 5, 6, 7, 8, 9]\n",
      "[4, 5, 6, 7, 8, 9]\n",
      "[5, 6, 7, 8, 9]\n",
      "[6, 7, 8, 9]\n",
      "[7, 8, 9]\n",
      "[8, 9]\n",
      "[9]\n",
      "[]\n"
     ]
    }
   ],
   "source": [
    "d = []\n",
    "print(d)\n",
    "\n",
    "for i in range(10):\n",
    "    d.append(i)\n",
    "    print(d)\n",
    "\n",
    "print()\n",
    "\n",
    "for i in range(10):\n",
    "    d.pop(0)\n",
    "    print(d)"
   ]
  },
  {
   "cell_type": "markdown",
   "metadata": {},
   "source": [
    "# deque, list-like container with fast appends and pops on either end"
   ]
  },
  {
   "cell_type": "markdown",
   "metadata": {},
   "source": [
    "Under the hood, a deque is a doubly-linked list. That means it has s bigger memory footprint than a list, because it stores two pointers per node instead of one. This is usually negligible in practice because the node’s contents will require more memory than a pointer.\n",
    "\n",
    "https://www.quora.com/What-are-the-pros-and-cons-of-a-list-versus-a-deque-in-Python-Under-what-conditions-should-we-use-a-list-versus-a-deque"
   ]
  },
  {
   "cell_type": "markdown",
   "metadata": {},
   "source": [
    "List append performance is hit and miss because it uses realloc() under the hood. As a result, it tends to have over-optimistic timings in simple code (because the realloc doesn't have to move data) and really slow timings in real code (because fragmentation forces realloc to move all the data). In contrast, deque append performance is consistent because it never reallocs and never moves data.\n",
    "\n",
    "https://stackoverflow.com/questions/23487307/python-deque-vs-list-performance-comparison"
   ]
  },
  {
   "cell_type": "code",
   "execution_count": 12,
   "metadata": {},
   "outputs": [
    {
     "name": "stdout",
     "output_type": "stream",
     "text": [
      "Time Spent:  0.27349305152893066\n"
     ]
    }
   ],
   "source": [
    "from collections import deque\n",
    "import time\n",
    "\n",
    "d = deque()\n",
    "\n",
    "tic = time.time()\n",
    "for i in range(1000000):\n",
    "    d.append(i)\n",
    "for i in range(1000000):\n",
    "    d.pop()\n",
    "toc = time.time()\n",
    "\n",
    "print('Time Spent: ', toc-tic)"
   ]
  },
  {
   "cell_type": "code",
   "execution_count": 11,
   "metadata": {},
   "outputs": [
    {
     "name": "stdout",
     "output_type": "stream",
     "text": [
      "Time Spent:  0.2181389331817627\n"
     ]
    }
   ],
   "source": [
    "import time\n",
    "\n",
    "d = []\n",
    "\n",
    "tic = time.time()\n",
    "for i in range(1000000):\n",
    "    d.append(i)\n",
    "for i in range(1000000):\n",
    "    d.pop()\n",
    "toc = time.time()\n",
    "\n",
    "print('Time Spent: ', toc-tic)"
   ]
  },
  {
   "cell_type": "code",
   "execution_count": 12,
   "metadata": {},
   "outputs": [
    {
     "name": "stdout",
     "output_type": "stream",
     "text": [
      "Time Spent:  0.20605182647705078\n"
     ]
    }
   ],
   "source": [
    "from collections import deque\n",
    "import time\n",
    "\n",
    "d = deque()\n",
    "\n",
    "tic = time.time()\n",
    "for i in range(1000000):\n",
    "    d.append(i)\n",
    "for i in range(1000000):\n",
    "    d.popleft()\n",
    "toc = time.time()\n",
    "\n",
    "print('Time Spent: ', toc-tic)"
   ]
  },
  {
   "cell_type": "code",
   "execution_count": 13,
   "metadata": {},
   "outputs": [
    {
     "name": "stdout",
     "output_type": "stream",
     "text": [
      "Time Spent:  94.63414216041565\n"
     ]
    }
   ],
   "source": [
    "d = []\n",
    "\n",
    "tic = time.time()\n",
    "for i in range(1000000):\n",
    "    d.append(i)\n",
    "for i in range(1000000):\n",
    "    d.pop(0)\n",
    "toc = time.time()\n",
    "\n",
    "print('Time Spent: ', toc-tic)"
   ]
  },
  {
   "cell_type": "code",
   "execution_count": 31,
   "metadata": {},
   "outputs": [
    {
     "name": "stdout",
     "output_type": "stream",
     "text": [
      "Time Spent:  1.4345028400421143\n"
     ]
    }
   ],
   "source": [
    "from collections import deque\n",
    "import time\n",
    "\n",
    "d = deque()\n",
    "for i in range(10000):\n",
    "    d.append(i)\n",
    "\n",
    "tic = time.time()\n",
    "for i in range(10000000):\n",
    "    d.append(0)\n",
    "    d.popleft()\n",
    "toc = time.time()\n",
    "\n",
    "print('Time Spent: ', toc-tic)"
   ]
  },
  {
   "cell_type": "code",
   "execution_count": 32,
   "metadata": {},
   "outputs": [
    {
     "name": "stdout",
     "output_type": "stream",
     "text": [
      "Time Spent:  11.89079999923706\n"
     ]
    }
   ],
   "source": [
    "import time\n",
    "\n",
    "d = []\n",
    "for i in range(10000):\n",
    "    d.append(i)\n",
    "\n",
    "tic = time.time()\n",
    "for i in range(10000000):\n",
    "    d.append(0)\n",
    "    d.pop(0)\n",
    "toc = time.time()\n",
    "\n",
    "print('Time Spent: ', toc-tic)"
   ]
  },
  {
   "cell_type": "markdown",
   "metadata": {},
   "source": [
    "# deque(maxlen=maxlen)"
   ]
  },
  {
   "cell_type": "code",
   "execution_count": 7,
   "metadata": {},
   "outputs": [
    {
     "name": "stdout",
     "output_type": "stream",
     "text": [
      "deque([])\n",
      "deque([0])\n",
      "deque([0, 1])\n",
      "deque([0, 1, 2])\n",
      "deque([0, 1, 2, 3])\n",
      "deque([0, 1, 2, 3, 4])\n",
      "deque([0, 1, 2, 3, 4, 5])\n",
      "deque([0, 1, 2, 3, 4, 5, 6])\n",
      "deque([0, 1, 2, 3, 4, 5, 6, 7])\n",
      "deque([0, 1, 2, 3, 4, 5, 6, 7, 8])\n",
      "deque([0, 1, 2, 3, 4, 5, 6, 7, 8, 9])\n"
     ]
    }
   ],
   "source": [
    "from collections import deque\n",
    "\n",
    "buffer = deque()\n",
    "print(buffer)\n",
    "for i in range(10):\n",
    "    buffer.append(i)\n",
    "    print(buffer)"
   ]
  },
  {
   "cell_type": "code",
   "execution_count": 8,
   "metadata": {},
   "outputs": [
    {
     "name": "stdout",
     "output_type": "stream",
     "text": [
      "deque([], maxlen=3)\n",
      "deque([0], maxlen=3)\n",
      "deque([0, 1], maxlen=3)\n",
      "deque([0, 1, 2], maxlen=3)\n",
      "deque([1, 2, 3], maxlen=3)\n",
      "deque([2, 3, 4], maxlen=3)\n",
      "deque([3, 4, 5], maxlen=3)\n",
      "deque([4, 5, 6], maxlen=3)\n",
      "deque([5, 6, 7], maxlen=3)\n",
      "deque([6, 7, 8], maxlen=3)\n",
      "deque([7, 8, 9], maxlen=3)\n"
     ]
    }
   ],
   "source": [
    "from collections import deque\n",
    "\n",
    "buffer = deque(maxlen=3)\n",
    "print(buffer)\n",
    "for i in range(10):\n",
    "    buffer.append(i)\n",
    "    print(buffer)"
   ]
  },
  {
   "cell_type": "markdown",
   "metadata": {},
   "source": [
    "# reversed"
   ]
  },
  {
   "cell_type": "code",
   "execution_count": 16,
   "metadata": {},
   "outputs": [
    {
     "name": "stdout",
     "output_type": "stream",
     "text": [
      "<_collections._deque_reverse_iterator object at 0x10f67b8b8>\n",
      "<class '_collections._deque_reverse_iterator'>\n"
     ]
    }
   ],
   "source": [
    "from collections import deque\n",
    "\n",
    "d = deque('ghi') \n",
    "d1 = reversed(d)\n",
    "\n",
    "print(d1)\n",
    "print(type(d1))"
   ]
  },
  {
   "cell_type": "code",
   "execution_count": 17,
   "metadata": {},
   "outputs": [
    {
     "name": "stdout",
     "output_type": "stream",
     "text": [
      "deque(['i', 'h', 'g'])\n",
      "<class 'collections.deque'>\n"
     ]
    }
   ],
   "source": [
    "from collections import deque\n",
    "\n",
    "d = deque('ghi') \n",
    "d1 = deque(reversed(d))\n",
    "\n",
    "print(d1)\n",
    "print(type(d1))"
   ]
  },
  {
   "cell_type": "code",
   "execution_count": 18,
   "metadata": {},
   "outputs": [
    {
     "name": "stdout",
     "output_type": "stream",
     "text": [
      "['i', 'h', 'g']\n",
      "<class 'list'>\n"
     ]
    }
   ],
   "source": [
    "from collections import deque\n",
    "\n",
    "d = deque('ghi') \n",
    "d1 = list(reversed(d))\n",
    "\n",
    "print(d1)\n",
    "print(type(d1))"
   ]
  },
  {
   "cell_type": "markdown",
   "metadata": {},
   "source": [
    "# rotate method"
   ]
  },
  {
   "cell_type": "code",
   "execution_count": 19,
   "metadata": {},
   "outputs": [
    {
     "name": "stdout",
     "output_type": "stream",
     "text": [
      "deque(['i', 'g', 'h'])\n"
     ]
    }
   ],
   "source": [
    "from collections import deque\n",
    "\n",
    "d = deque('ghi') \n",
    "d.rotate(1)                      \n",
    "\n",
    "print(d)"
   ]
  },
  {
   "cell_type": "code",
   "execution_count": 20,
   "metadata": {},
   "outputs": [
    {
     "name": "stdout",
     "output_type": "stream",
     "text": [
      "deque(['h', 'i', 'g'])\n"
     ]
    }
   ],
   "source": [
    "from collections import deque\n",
    "\n",
    "d = deque('ghi') \n",
    "d.rotate(-1)                     \n",
    "\n",
    "print(d)"
   ]
  },
  {
   "cell_type": "markdown",
   "metadata": {},
   "source": [
    "# clear method"
   ]
  },
  {
   "cell_type": "code",
   "execution_count": 21,
   "metadata": {},
   "outputs": [
    {
     "name": "stdout",
     "output_type": "stream",
     "text": [
      "deque([])\n"
     ]
    }
   ],
   "source": [
    "from collections import deque\n",
    "\n",
    "d = deque('ghi') \n",
    "d.clear()                      \n",
    "\n",
    "print(d)"
   ]
  },
  {
   "cell_type": "markdown",
   "metadata": {},
   "source": [
    "# extend, extendleft method"
   ]
  },
  {
   "cell_type": "code",
   "execution_count": 22,
   "metadata": {},
   "outputs": [
    {
     "name": "stdout",
     "output_type": "stream",
     "text": [
      "deque(['g', 'h', 'i', 'j', 'k', 'l'])\n"
     ]
    }
   ],
   "source": [
    "from collections import deque\n",
    "\n",
    "d = deque('ghi') \n",
    "d.extend('jkl')                  # add multiple elements at once                      \n",
    "\n",
    "print(d)"
   ]
  },
  {
   "cell_type": "code",
   "execution_count": 23,
   "metadata": {},
   "outputs": [
    {
     "name": "stdout",
     "output_type": "stream",
     "text": [
      "deque(['l', 'k', 'j', 'g', 'h', 'i'])\n"
     ]
    }
   ],
   "source": [
    "from collections import deque\n",
    "\n",
    "d = deque('ghi') \n",
    "d.extendleft('jkl')                  # add multiple elements at once                      \n",
    "\n",
    "print(d)"
   ]
  },
  {
   "cell_type": "markdown",
   "metadata": {},
   "source": [
    "# membersship test"
   ]
  },
  {
   "cell_type": "code",
   "execution_count": 24,
   "metadata": {},
   "outputs": [
    {
     "name": "stdout",
     "output_type": "stream",
     "text": [
      "True\n"
     ]
    }
   ],
   "source": [
    "from collections import deque\n",
    "\n",
    "d = deque('ghi') \n",
    "\n",
    "print('h' in d)"
   ]
  }
 ],
 "metadata": {
  "kernelspec": {
   "display_name": "Python 3",
   "language": "python",
   "name": "python3"
  },
  "language_info": {
   "codemirror_mode": {
    "name": "ipython",
    "version": 3
   },
   "file_extension": ".py",
   "mimetype": "text/x-python",
   "name": "python",
   "nbconvert_exporter": "python",
   "pygments_lexer": "ipython3",
   "version": "3.5.0"
  }
 },
 "nbformat": 4,
 "nbformat_minor": 2
}
